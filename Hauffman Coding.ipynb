{
 "cells": [
  {
   "cell_type": "code",
   "execution_count": 5,
   "metadata": {},
   "outputs": [],
   "source": [
    "class Node: \n",
    "    x=[]\n",
    "    def __init__(self):\n",
    "        pass\n",
    "    \n",
    "    def initialize(self,name,probability):\n",
    "        self.x = [name]\n",
    "        self.prob = probability\n",
    "        return(self)\n",
    "    \n",
    "    def merge(self,P,Q):\n",
    "        self.x = self.x+P.x+Q.x\n",
    "        self.prob = P.prob+Q.prob\n",
    "        self.childnode_left = P\n",
    "        self.childnode_right =Q\n",
    "        return(self)\n",
    "        \n",
    "    def code(self,symb):\n",
    "        if symb not in self.x:\n",
    "            print(\"Symbol not in the List!!!!\")\n",
    "        else:\n",
    "            current_node = self\n",
    "            while(1):\n",
    "                if len(current_node.x)==1:\n",
    "                    break\n",
    "                if symb in current_node.childnode_left.x:\n",
    "                    print(0,end=\"\")\n",
    "                    current_node = current_node.childnode_left\n",
    "                else:\n",
    "                    print(1,end=\"\")\n",
    "                    current_node = current_node.childnode_right\n",
    "            \n",
    "    \n",
    "    \n",
    "        \n",
    "        \n",
    "        "
   ]
  },
  {
   "cell_type": "code",
   "execution_count": 6,
   "metadata": {},
   "outputs": [],
   "source": [
    "def key_function(x):\n",
    "    return x.prob"
   ]
  },
  {
   "cell_type": "code",
   "execution_count": 13,
   "metadata": {},
   "outputs": [],
   "source": [
    "def main():\n",
    "    n = int(input(\"How many symbols do you have:\"))\n",
    "    nodes =[]\n",
    "    for i in range(n):\n",
    "        p = float(input(\"Enter the probability for symbol \"+str(i+1)+\": \"))\n",
    "        nodes.append(Node().initialize(i+1,p))\n",
    "    \n",
    "    while(len(nodes)>1):\n",
    "            nodes.sort(key=key_function , reverse=True)\n",
    "            x = nodes.pop()\n",
    "            y = nodes.pop()\n",
    "            nodes.append(Node().merge(x,y))\n",
    "    \n",
    "    f = nodes.pop()\n",
    "    print(\"The Hauffman Coding of these symbols are:\")\n",
    "    for i in range(n):\n",
    "        print(\"x\",i+1,\": \",end=\"\")\n",
    "        f.code(i+1)\n",
    "        print(\"\")\n",
    "        "
   ]
  },
  {
   "cell_type": "code",
   "execution_count": 14,
   "metadata": {},
   "outputs": [
    {
     "name": "stdout",
     "output_type": "stream",
     "text": [
      "How many symbols do you have:7\n",
      "Enter the probability for symbol 1: 0.4\n",
      "Enter the probability for symbol 2: 0.2\n",
      "Enter the probability for symbol 3: 0.12\n",
      "Enter the probability for symbol 4: 0.08\n",
      "Enter the probability for symbol 5: 0.08\n",
      "Enter the probability for symbol 6: 0.08\n",
      "Enter the probability for symbol 7: 0.04\n",
      "The Hauffman Coding of these symbols are:\n",
      "x 1 : 0\n",
      "x 2 : 111\n",
      "x 3 : 101\n",
      "x 4 : 1101\n",
      "x 5 : 1100\n",
      "x 6 : 1001\n",
      "x 7 : 1000\n"
     ]
    }
   ],
   "source": [
    "main()"
   ]
  },
  {
   "cell_type": "code",
   "execution_count": null,
   "metadata": {},
   "outputs": [],
   "source": []
  }
 ],
 "metadata": {
  "kernelspec": {
   "display_name": "Python 3",
   "language": "python",
   "name": "python3"
  },
  "language_info": {
   "codemirror_mode": {
    "name": "ipython",
    "version": 3
   },
   "file_extension": ".py",
   "mimetype": "text/x-python",
   "name": "python",
   "nbconvert_exporter": "python",
   "pygments_lexer": "ipython3",
   "version": "3.6.7"
  }
 },
 "nbformat": 4,
 "nbformat_minor": 2
}
